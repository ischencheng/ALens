{
 "cells": [
  {
   "cell_type": "code",
   "execution_count": 3,
   "metadata": {},
   "outputs": [],
   "source": [
    "import json,math,re\n"
   ]
  },
  {
   "cell_type": "markdown",
   "metadata": {},
   "source": [
    "Generate sentence range "
   ]
  },
  {
   "cell_type": "code",
   "execution_count": 4,
   "metadata": {},
   "outputs": [
    {
     "name": "stdout",
     "output_type": "stream",
     "text": [
      "[28, 59, 84, 108, 130, 148, 170, 188, 208, 227, 249]\n"
     ]
    }
   ],
   "source": [
    "\n",
    "\n",
    "\n",
    "seperator=['.']\n",
    "with open('../abstract/curr_abs.json','r',encoding='utf-8') as f:\n",
    "    abs=json.load(f)\n",
    "#print(abs[0])\n",
    "abs_arr=abs[0].split(' ')\n",
    "#print(abs_arr)\n",
    "special_token=['',' ']\n",
    "num_special_token=[]\n",
    "for i in range(0, len(special_token)):\n",
    "    num_special_token.append(abs_arr.count(special_token[i]))\n",
    "for i in range(0,len(num_special_token)):\n",
    "    for j in range(0,num_special_token[i]):\n",
    "        abs_arr.remove(special_token[i])\n",
    "seperator_index=[]\n",
    "for i in range(0,len(abs_arr)):\n",
    "    for j in range(0,len(seperator)):\n",
    "        if abs_arr[i].endswith(seperator[j]):\n",
    "            seperator_index.append(i)\n",
    "\n",
    "print(seperator_index)\n",
    "seperator_index1=seperator_index"
   ]
  },
  {
   "cell_type": "code",
   "execution_count": 5,
   "metadata": {},
   "outputs": [],
   "source": [
    "sen_arr=[]\n",
    "for i in range(0,len(seperator_index)):\n",
    "    sen_arr_tmp=[]\n",
    "    if i==0:\n",
    "        start=0\n",
    "        end=seperator_index[i]+1\n",
    "    else:\n",
    "        start=seperator_index[i-1]+1\n",
    "        end=seperator_index[i]+1\n",
    "    for j in range(start,end):\n",
    "        sen_arr_tmp.append(abs_arr[j])\n",
    "    sen_arr.append(' '.join(sen_arr_tmp))\n",
    "    with open('../abstract/curr_abs_arr.json','w',encoding='utf-8') as f:\n",
    "        json.dump(sen_arr,f)\n",
    "#print(len(sen_arr))"
   ]
  },
  {
   "cell_type": "code",
   "execution_count": 6,
   "metadata": {},
   "outputs": [
    {
     "name": "stdout",
     "output_type": "stream",
     "text": [
      "[[22, 46, 70, 115, 134], [13, 34, 55, 84, 104], [24, 43, 76], [26, 50, 73], [27, 64, 85], [59], [18, 42], [36, 59, 72, 93], [19, 28, 42, 74, 90, 122], [18, 22, 42, 69, 117], [42, 71], [25, 40, 56, 68, 94], [15, 29], [20, 39, 61], [13, 61, 105], [31], [0, 15, 51, 70, 96, 115, 132, 154, 176, 198, 209, 224], [15, 41, 58], [0, 31, 65, 110, 140, 205, 237, 250, 265, 310, 347], [35, 43, 68, 76, 91, 152, 198, 225], [13, 57, 83, 108, 126, 160, 232, 252], [58, 94, 115], [20, 39, 61]]\n",
      "[22, 46, 70, 115, 134, 148, 169, 190, 219, 239, 264, 283, 316, 343, 367, 390, 418, 455, 476, 536, 555, 579, 616, 639, 652, 673, 693, 702, 716, 748, 764, 796, 815, 819, 839, 866, 914, 957, 986, 1012, 1027, 1043, 1055, 1081, 1097, 1111, 1132, 1151, 1173, 1187, 1235, 1279, 1311, 1312, 1327, 1363, 1382, 1408, 1427, 1444, 1466, 1488, 1510, 1521, 1536, 1552, 1578, 1595, 1596, 1627, 1661, 1706, 1736, 1801, 1833, 1846, 1861, 1906, 1943, 1979, 1987, 2012, 2020, 2035, 2096, 2142, 2169, 2183, 2227, 2253, 2278, 2296, 2330, 2402, 2422, 2481, 2517, 2538, 2559, 2578, 2600]\n"
     ]
    }
   ],
   "source": [
    "\n",
    "\n",
    "\n",
    "seperator=['.']\n",
    "with open('../source_txt/source_txt.json','r',encoding='utf-8') as f:\n",
    "    src=json.load(f)\n",
    "#print(abs[0])\n",
    "para_seperator_index=[]\n",
    "for k in range(len(src)):\n",
    "    src_arr=src[k].split(' ')\n",
    "    #print(abs_arr)\n",
    "    special_token=['',' ']\n",
    "    num_special_token=[]\n",
    "    for i in range(0, len(special_token)):\n",
    "        num_special_token.append(src_arr.count(special_token[i]))\n",
    "    for i in range(0,len(num_special_token)):\n",
    "        for j in range(0,num_special_token[i]):\n",
    "            src_arr.remove(special_token[i])\n",
    "    seperator_index=[]\n",
    "    for i in range(0,len(src_arr)):\n",
    "        for j in range(0,len(seperator)):\n",
    "            if src_arr[i].endswith(seperator[j]):\n",
    "                seperator_index.append(i)\n",
    "\n",
    "    para_seperator_index.append(seperator_index)\n",
    "\n",
    "print(para_seperator_index)\n",
    "\n",
    "#print(para_seperator_index)\n",
    "accumulate_index_arr=[]\n",
    "accumulate_index=0\n",
    "for i in range(0,len(para_seperator_index)):\n",
    "    for j in range(0,len(para_seperator_index[i])):\n",
    "        accumulate_index_arr.append(para_seperator_index[i][j]+accumulate_index)\n",
    "    accumulate_index+=para_seperator_index[i][-1]+1\n",
    "\n",
    "print(accumulate_index_arr)"
   ]
  },
  {
   "cell_type": "code",
   "execution_count": 7,
   "metadata": {},
   "outputs": [],
   "source": [
    "sen_arr_src=[]\n",
    "sen_index=0\n",
    "sen2para=[]\n",
    "for k in range(len(src)):\n",
    "    sen2para.append([])\n",
    "    src_arr=src[k].split(' ')\n",
    "    for i in range(0,len(para_seperator_index[k])):\n",
    "        sen_arr_src_tmp=[]\n",
    "        if i==0:\n",
    "            start=0\n",
    "            end=para_seperator_index[k][i]+1\n",
    "        else:\n",
    "            start=para_seperator_index[k][i-1]+1\n",
    "            end=para_seperator_index[k][i]+1\n",
    "        for j in range(start,end):\n",
    "            sen_arr_src_tmp.append(src_arr[j])\n",
    "        sen_arr_src.append(' '.join(sen_arr_src_tmp))\n",
    "        sen2para[k].append(sen_index)\n",
    "        sen_index+=1\n",
    "with open('../source_txt/source_txt_arr.json','w',encoding='utf-8') as f:\n",
    "    json.dump(sen_arr_src,f)\n",
    "\n",
    "with open('../source_txt/sen2para.json','w',encoding='utf-8') as f:\n",
    "    json.dump(sen2para,f)\n",
    "#print(sen2para)"
   ]
  },
  {
   "cell_type": "markdown",
   "metadata": {},
   "source": [
    "Compose Matrix"
   ]
  },
  {
   "cell_type": "code",
   "execution_count": 8,
   "metadata": {},
   "outputs": [],
   "source": [
    "\n",
    "\n",
    "\n",
    "zeros_row=[]\n",
    "sen2sen_matrix_tmp=[]\n",
    "with open('./curr-shap.json','r', encoding='utf-8') as f:\n",
    "    shapely=json.load(f)\n",
    "\n",
    "for i in range(0,len(shapely[0])):\n",
    "    zeros_row.append(0) \n",
    "for k in range(len(accumulate_index_arr)):\n",
    "    if k==0:\n",
    "        start=0\n",
    "        end=accumulate_index_arr[k]+1\n",
    "    else:\n",
    "        start=accumulate_index_arr[k-1]+1\n",
    "        end=accumulate_index_arr[k]+1\n",
    "    row_vec=[]\n",
    "    for i in range(0,len(shapely[0])):\n",
    "        row_vec.append(0) \n",
    "    #print(row_vec)\n",
    "    #print(start)\n",
    "    for i in range(start,end):\n",
    "        for j in range(0,len(shapely[0])):\n",
    "            row_vec[j]+=shapely[i][j]/(end-start)\n",
    "    sen2sen_matrix_tmp.append(row_vec)\n",
    "# print(len(sen2sen_matrix_tmp))\n",
    "# print(len(sen2sen_matrix_tmp[0]))\n",
    "#print(sen2sen_matrix_tmp)\n",
    "\n",
    "\n",
    "\n",
    "\n",
    "\n",
    "sen2sen_matrix=[]\n",
    "for i in range(0,len(sen2sen_matrix_tmp)):\n",
    "    sen2sen_matrix.append([])\n",
    "for i in range(0,len(sen2sen_matrix_tmp)):\n",
    "    for j in range(len(seperator_index1)):\n",
    "        sen2sen_matrix[i].append(0)\n",
    "\n",
    "#print(len(sen2sen_matrix[0]))\n",
    "#print(seperator_index1)\n",
    "for k in range(len(seperator_index1)):\n",
    "    if k==0:\n",
    "        start=0\n",
    "        end=seperator_index1[k]+1\n",
    "    else:\n",
    "        start=seperator_index1[k-1]+1\n",
    "        end=seperator_index1[k]+1\n",
    "    for j in range(start,end):\n",
    "        for i in range(len(sen2sen_matrix_tmp)):\n",
    "            sen2sen_matrix[i][k]+=sen2sen_matrix_tmp[i][j]/(end-start)\n",
    "    \n",
    "\n",
    "# print(len(sen2sen_matrix))\n",
    "# print(len(sen2sen_matrix[0]))\n",
    "\n",
    "with open('./sen2sen_shap.json','w',encoding='utf-8') as f:\n",
    "    json.dump(sen2sen_matrix,f)\n",
    "\n"
   ]
  }
 ],
 "metadata": {
  "kernelspec": {
   "display_name": "Python 3.9.7 ('base')",
   "language": "python",
   "name": "python3"
  },
  "language_info": {
   "codemirror_mode": {
    "name": "ipython",
    "version": 3
   },
   "file_extension": ".py",
   "mimetype": "text/x-python",
   "name": "python",
   "nbconvert_exporter": "python",
   "pygments_lexer": "ipython3",
   "version": "3.9.7"
  },
  "orig_nbformat": 4,
  "vscode": {
   "interpreter": {
    "hash": "4d9fedf4e65ea9871db9acaa16fd6ec6fd92d7dcbd5339e6d04a6dfe0763516c"
   }
  }
 },
 "nbformat": 4,
 "nbformat_minor": 2
}
