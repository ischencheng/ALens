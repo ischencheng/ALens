{
 "cells": [
  {
   "cell_type": "code",
   "execution_count": 1,
   "metadata": {},
   "outputs": [],
   "source": [
    "import json,math\n",
    "\n",
    "\n",
    "with open('./sen2sen_shap.json','r',encoding='utf-8') as f:\n",
    "    shapely=json.load(f)\n",
    "\n"
   ]
  },
  {
   "cell_type": "markdown",
   "metadata": {},
   "source": [
    "Topk for each token in abstract"
   ]
  },
  {
   "cell_type": "code",
   "execution_count": 2,
   "metadata": {},
   "outputs": [],
   "source": [
    "\n",
    "topk_shapely=[]\n",
    "for j in range(0,len(shapely[0])):\n",
    "    max_shapely=[[0,-100],[0,-100],[0,-100],[0,-100],[0,-100],[0,-100],[0,-100],[0,-100],[0,-100]]\n",
    "    for i in range(0,len(shapely)):\n",
    "        min_index=-1\n",
    "        min=math.inf\n",
    "        for k in range(0,len(max_shapely)):\n",
    "            if  min>max_shapely[k][1]:\n",
    "                min=max_shapely[k][1]\n",
    "                min_index=k\n",
    "        if min<shapely[i][j]:\n",
    "            max_shapely[min_index][1]=shapely[i][j]\n",
    "            max_shapely[min_index][0]=i\n",
    "    for z in range(0,len(max_shapely)):\n",
    "        if max_shapely[z][1]==math.inf:\n",
    "            max_shapely[z][1]=1\n",
    "    topk_shapely.append(max_shapely)\n",
    "    #print(max_shapely)"
   ]
  },
  {
   "cell_type": "code",
   "execution_count": 3,
   "metadata": {},
   "outputs": [],
   "source": [
    "\n",
    "with open(\"topk_abs_sen.json\",\"w\",encoding='utf-8') as f:\n",
    "    json.dump(topk_shapely,f)"
   ]
  },
  {
   "cell_type": "markdown",
   "metadata": {},
   "source": [
    "Average topk for each token in abstract"
   ]
  },
  {
   "cell_type": "code",
   "execution_count": 4,
   "metadata": {},
   "outputs": [],
   "source": [
    "import numpy as np\n",
    "avg_abs=[]\n",
    "avg_abs=[]\n",
    "for i in range(0,len(topk_shapely)):\n",
    "    tmp=[]\n",
    "    for j in range(0,len(topk_shapely[0])):\n",
    "        tmp.append(topk_shapely[i][j][1])\n",
    "    avg_abs.append(np.mean(tmp))\n",
    "with open('./topk_avg_abs_sen.json','w',encoding='utf-8') as f:\n",
    "    json.dump(avg_abs,f)"
   ]
  },
  {
   "cell_type": "markdown",
   "metadata": {},
   "source": [
    "topk for each token in source"
   ]
  },
  {
   "cell_type": "code",
   "execution_count": 5,
   "metadata": {},
   "outputs": [],
   "source": [
    "topk_shapely=[]\n",
    "for i in range(0,len(shapely)):\n",
    "    max_shapely=[[0,-100],[0,-100],[0,-100],[0,-100],[0,-100],[0,-100],[0,-100],[0,-100],[0,-100]]\n",
    "    for j in range(0,len(shapely[0])):\n",
    "        min_index=-1\n",
    "        min=math.inf\n",
    "        for k in range(0,len(max_shapely)):\n",
    "            if  min>max_shapely[k][1]:\n",
    "                min=max_shapely[k][1]\n",
    "                min_index=k\n",
    "        if min<shapely[i][j]:\n",
    "            max_shapely[min_index][1]=shapely[i][j]\n",
    "            max_shapely[min_index][0]=j\n",
    "    for z in range(0,len(max_shapely)):\n",
    "        if max_shapely[z][1]==math.inf:\n",
    "            max_shapely[z][1]=1\n",
    "    topk_shapely.append(max_shapely)\n",
    "\n",
    "with open(\"topk_src_sen.json\",\"w\",encoding='utf-8') as f:\n",
    "    json.dump(topk_shapely,f)"
   ]
  },
  {
   "cell_type": "markdown",
   "metadata": {},
   "source": [
    "average topk for each token in source"
   ]
  },
  {
   "cell_type": "code",
   "execution_count": 6,
   "metadata": {},
   "outputs": [],
   "source": [
    "avg_src=[]\n",
    "for i in range(0,len(topk_shapely)):\n",
    "    tmp=[]\n",
    "    for j in range(0,len(topk_shapely[0])):\n",
    "        tmp.append(topk_shapely[i][j][1])\n",
    "    avg_src.append(np.mean(tmp))\n",
    "with open('./topk_avg_src_sen.json','w',encoding='utf-8') as f:\n",
    "    json.dump(avg_src,f)"
   ]
  },
  {
   "cell_type": "markdown",
   "metadata": {},
   "source": [
    "Analysis"
   ]
  },
  {
   "cell_type": "code",
   "execution_count": 7,
   "metadata": {},
   "outputs": [
    {
     "name": "stdout",
     "output_type": "stream",
     "text": [
      "0.00023052383506600113\n",
      "0.02174931942655183\n"
     ]
    }
   ],
   "source": [
    "with open('./topk_avg_src_sen.json','r',encoding='utf-8') as f:\n",
    "    avg_src=json.load(f)\n",
    "print(np.min(avg_src))\n",
    "print(np.max(avg_src))"
   ]
  },
  {
   "cell_type": "code",
   "execution_count": 8,
   "metadata": {},
   "outputs": [
    {
     "name": "stdout",
     "output_type": "stream",
     "text": [
      "0.016817655884908255\n",
      "0.06307232287613614\n"
     ]
    }
   ],
   "source": [
    "with open('./topk_avg_abs_sen.json','r',encoding='utf-8') as f:\n",
    "    avg_abs=json.load(f)\n",
    "print(np.min(avg_abs))\n",
    "print(np.max(avg_abs))"
   ]
  },
  {
   "cell_type": "code",
   "execution_count": null,
   "metadata": {},
   "outputs": [],
   "source": []
  }
 ],
 "metadata": {
  "kernelspec": {
   "display_name": "Python 3.9.7 ('base')",
   "language": "python",
   "name": "python3"
  },
  "language_info": {
   "codemirror_mode": {
    "name": "ipython",
    "version": 3
   },
   "file_extension": ".py",
   "mimetype": "text/x-python",
   "name": "python",
   "nbconvert_exporter": "python",
   "pygments_lexer": "ipython3",
   "version": "3.9.7"
  },
  "orig_nbformat": 4,
  "vscode": {
   "interpreter": {
    "hash": "4d9fedf4e65ea9871db9acaa16fd6ec6fd92d7dcbd5339e6d04a6dfe0763516c"
   }
  }
 },
 "nbformat": 4,
 "nbformat_minor": 2
}
